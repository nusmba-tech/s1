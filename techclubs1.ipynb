{
 "cells": [
  {
   "cell_type": "markdown",
   "metadata": {},
   "source": [
    "# Warm welcome from Tech Club!\n",
    "\n",
    "With this website, you can play with Python without installing Python on your computer.\n",
    "\n",
    "Simply choose a block, and hit the ***Run*** button above to run some code.\n",
    "\n",
    "Let's try one right now!"
   ]
  },
  {
   "cell_type": "code",
   "execution_count": null,
   "metadata": {},
   "outputs": [],
   "source": [
    "import base64\n",
    "print(base64.b64decode(\"IF9fX18gIF9fX19fICBfX19fXyAgX19fX18gICBfX19fX18gICAgX19fXyAgICBfX19fICBfX19fX18gICAgICAgIF8gICAgICAgCnxfICAgXHxfICAgX3x8XyAgIF98fF8gICBffC4nIF9fX18gXCAgfF8gICBcICAvICAgX3x8XyAgIF8gXCAgICAgIC8gXCAgICAgIAogIHwgICBcIHwgfCAgICB8IHwgICAgfCB8ICB8IChfX18gXF98ICAgfCAgIFwvICAgfCAgICB8IHxfKSB8ICAgIC8gXyBcICAgICAKICB8IHxcIFx8IHwgICAgfCAnICAgICcgfCAgIF8uX19fX2AuICAgIHwgfFwgIC98IHwgICAgfCAgX18nLiAgIC8gX19fIFwgICAgCiBffCB8X1wgICB8XyAgICBcIFxfXy8gLyAgIHwgXF9fX18pIHwgIF98IHxfXC9ffCB8XyAgX3wgfF9fKSB8Xy8gLyAgIFwgXF8gIAp8X19fX198XF9fX198ICAgIGAuX18uJyAgICAgXF9fX19fXy4nIHxfX19fX3x8X19fX198fF9fX19fX18vfF9fX198IHxfX19ffCAKIF9fX19fX19fXyAgX19fX19fX18gICAgX19fX19fICBfX19fICBfX19fICAgICAgICAgICAgICAgICAgICAgICAgICAgICAgICAgCnwgIF8gICBfICB8fF8gICBfXyAgfCAuJyBfX18gIHx8XyAgIHx8ICAgX3wgICAgICAgICAgICAgICAgICAgICAgICAgICAgICAgIAp8Xy8gfCB8IFxffCAgfCB8XyBcX3wvIC4nICAgXF98ICB8IHxfX3wgfCAgICAgICAgICAgICAgICAgICAgICAgICAgICAgICAgICAKICAgIHwgfCAgICAgIHwgIF98IF8gfCB8ICAgICAgICAgfCAgX18gIHwgICAgICAgICAgICAgICAgICAgICAgICAgICAgICAgICAgCiAgIF98IHxfICAgIF98IHxfXy8gfFwgYC5fX18uJ1wgX3wgfCAgfCB8XyAgICAgICAgICAgICAgICAgICAgICAgICAgICAgICAgIAogIHxfX19fX3wgIHxfX19fX19fX3wgYC5fX19fIC4nfF9fX198fF9fX198ICAgICAgICAgICAgICAgICAgICAgICAgICAgICAgICAKICAgX19fX19fICBfX19fXyAgX19fX18gIF9fX19fICBfX19fX18gICAgICAgICAgICAgICAgICAgICAgICAgICAgICAgICAgICAgCiAuJyBfX18gIHx8XyAgIF98fF8gICBffHxfICAgX3x8XyAgIF8gXCAgICAgICAgICAgICAgICAgICAgICAgICAgICAgICAgICAgIAovIC4nICAgXF98ICB8IHwgICAgfCB8ICAgIHwgfCAgICB8IHxfKSB8ICAgICAgICAgICAgICAgICAgICAgICAgICAgICAgICAgICAKfCB8ICAgICAgICAgfCB8ICAgX3wgJyAgICAnIHwgICAgfCAgX18nLiAgICAgICAgICAgICAgICAgICAgICAgICAgICAgICAgICAgClwgYC5fX18uJ1wgX3wgfF9fLyB8XCBcX18vIC8gICAgX3wgfF9fKSB8ICAgICAgICAgICAgICAgICAgICAgICAgICAgICAgICAgIAogYC5fX19fIC4nfF9fX19fX19ffCBgLl9fLicgICAgfF9fX19fX18vICAgICAgICAgICAgICAgICAgICAgICAgICAgICAgICAgICAKICAgICAgICAgICAgICAgICAgICAgICAgICAgICAgICAgICAgICAgICAgICAgICAgICAgICAgICAgICAgICAgICAgICAgICAgICAg\").decode(\"utf-8\"))\n",
    "print(\"You Did It! That wasn't hard, was it 😉\")"
   ]
  },
  {
   "cell_type": "markdown",
   "metadata": {},
   "source": [
    "## Basics [1] – Variables\n",
    "\n",
    "In programming, you can give names to things."
   ]
  },
  {
   "cell_type": "code",
   "execution_count": null,
   "metadata": {},
   "outputs": [],
   "source": [
    "x = 1\n",
    "y = 2\n",
    "print(x+y)"
   ]
  },
  {
   "cell_type": "markdown",
   "metadata": {},
   "source": [
    "## Basics [2] – Types\n",
    "Before, we can add ```x``` and ```y``` because both of them are numbers.\n",
    "\n",
    "What if we try to add \"text\" and \"numbers\"?"
   ]
  },
  {
   "cell_type": "code",
   "execution_count": null,
   "metadata": {},
   "outputs": [],
   "source": [
    "name = \"\"\n",
    "age = 0\n",
    "\n",
    "print(\"My name is \" + name + \"and I am \" + age + \" years old.\")"
   ]
  },
  {
   "cell_type": "markdown",
   "metadata": {},
   "source": [
    "## Basics [3] – Comments\n",
    "Code alone are confusing.\n",
    "Use comments to explain your code, always!"
   ]
  },
  {
   "cell_type": "code",
   "execution_count": null,
   "metadata": {},
   "outputs": [],
   "source": [
    "# This is a comment\n",
    "# Nothing will happen whatever I write in it\n",
    "# print(\"Weeeeeeee\")\n",
    "\n",
    "# Comment is a good place to explain what your code does\n",
    "# Below this line, I will print out the word, Hello!\n",
    "print(\"Hello!\")"
   ]
  },
  {
   "cell_type": "markdown",
   "metadata": {},
   "source": [
    "## Basics [4] – Conditionals\n",
    "Sometimes do something, other times do something else!"
   ]
  },
  {
   "cell_type": "code",
   "execution_count": null,
   "metadata": {},
   "outputs": [],
   "source": [
    "myScore = 7\n",
    "\n",
    "if myScore < 50:\n",
    "    print(\"You Failed!\")\n",
    "else:\n",
    "    print(\"You Passed!\")"
   ]
  },
  {
   "cell_type": "markdown",
   "metadata": {},
   "source": [
    "## Basics [5] – Functions\n",
    "Grouping code. Makes life easy!\n",
    "\n",
    "Can you make a function that squares a number?"
   ]
  },
  {
   "cell_type": "code",
   "execution_count": null,
   "metadata": {},
   "outputs": [],
   "source": [
    "def square(x):\n",
    "    # Write something below\n",
    "    return ???\n",
    "\n",
    "print(square(5))"
   ]
  },
  {
   "cell_type": "markdown",
   "metadata": {},
   "source": [
    "## Basics [6] – Loops\n",
    "Do stuff multiple times"
   ]
  },
  {
   "cell_type": "code",
   "execution_count": null,
   "metadata": {},
   "outputs": [],
   "source": [
    "for x in range(50):\n",
    "    print(\"Weeeeeeeeee\")"
   ]
  },
  {
   "cell_type": "markdown",
   "metadata": {},
   "source": [
    "## Basics [7] – Lists"
   ]
  },
  {
   "cell_type": "code",
   "execution_count": null,
   "metadata": {},
   "outputs": [],
   "source": [
    "foodChoices = [\"steak\", \"tom yum\", \"chicken rice\"]\n",
    "profile = {\n",
    "    \"name\": \"Douglas\",\n",
    "    \"age\": 40\n",
    "}\n",
    "\n",
    "print(foodChoices[1])"
   ]
  },
  {
   "cell_type": "code",
   "execution_count": null,
   "metadata": {},
   "outputs": [],
   "source": [
    "print(profile[\"name\"])"
   ]
  },
  {
   "cell_type": "code",
   "execution_count": null,
   "metadata": {},
   "outputs": [],
   "source": [
    "for food in foodChoices:\n",
    "    print(food + \" is delicious\")"
   ]
  },
  {
   "cell_type": "markdown",
   "metadata": {},
   "source": [
    "## Basics [8] – Imports\n",
    "Use other people's codes and functions"
   ]
  },
  {
   "cell_type": "code",
   "execution_count": null,
   "metadata": {},
   "outputs": [],
   "source": [
    "# For stats related stuff\n",
    "import statistics\n",
    "\n",
    "# Let's try using it\n",
    "someNumbers = [1, 2, 3, 4, 5, 6, 7]\n",
    "print(statistics.stdev(someNumbers))"
   ]
  },
  {
   "cell_type": "code",
   "execution_count": null,
   "metadata": {},
   "outputs": [],
   "source": [
    "# For date related stuff\n",
    "import datetime\n",
    "\n",
    "print(datetime.date.today())"
   ]
  },
  {
   "cell_type": "markdown",
   "metadata": {},
   "source": [
    "## Data Fetching\n",
    "\n",
    "Here we'll get some stocks data from a service called Alphavantage.co"
   ]
  },
  {
   "cell_type": "code",
   "execution_count": null,
   "metadata": {},
   "outputs": [],
   "source": [
    "import requests\n",
    "apiKey = \"demo\"\n",
    "url = \"https://www.alphavantage.co/query?function=GLOBAL_QUOTE&symbol=MSFT&apikey=\" + apiKey\n",
    "response = requests.get(url)\n",
    "print(response.text)"
   ]
  },
  {
   "cell_type": "code",
   "execution_count": null,
   "metadata": {},
   "outputs": [],
   "source": []
  }
 ],
 "metadata": {
  "kernelspec": {
   "display_name": "Python 3",
   "language": "python",
   "name": "python3"
  },
  "language_info": {
   "codemirror_mode": {
    "name": "ipython",
    "version": 3
   },
   "file_extension": ".py",
   "mimetype": "text/x-python",
   "name": "python",
   "nbconvert_exporter": "python",
   "pygments_lexer": "ipython3",
   "version": "3.6.3"
  }
 },
 "nbformat": 4,
 "nbformat_minor": 2
}
