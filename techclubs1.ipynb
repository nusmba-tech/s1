{
 "cells": [
  {
   "cell_type": "markdown",
   "metadata": {},
   "source": [
    "# Warm welcome from Tech Club!\n",
    "\n",
    "Get yourself familiar with the notebook.\n",
    "\n",
    "With this, you can run python code in blocks.\n",
    "\n",
    "Simply choose a block, and hit the ***Run*** button above to run some code.\n",
    "\n",
    "Let's try one right now!"
   ]
  },
  {
   "cell_type": "code",
   "execution_count": 12,
   "metadata": {},
   "outputs": [
   ],
   "source": [
    "import base64\n",
    "print(base64.b64decode(\"IF9fX18gIF9fX19fICBfX19fXyAgX19fX18gICBfX19fX18gICAgX19fXyAgICBfX19fICBfX19fX18gICAgICAgIF8gICAgICAgCnxfICAgXHxfICAgX3x8XyAgIF98fF8gICBffC4nIF9fX18gXCAgfF8gICBcICAvICAgX3x8XyAgIF8gXCAgICAgIC8gXCAgICAgIAogIHwgICBcIHwgfCAgICB8IHwgICAgfCB8ICB8IChfX18gXF98ICAgfCAgIFwvICAgfCAgICB8IHxfKSB8ICAgIC8gXyBcICAgICAKICB8IHxcIFx8IHwgICAgfCAnICAgICcgfCAgIF8uX19fX2AuICAgIHwgfFwgIC98IHwgICAgfCAgX18nLiAgIC8gX19fIFwgICAgCiBffCB8X1wgICB8XyAgICBcIFxfXy8gLyAgIHwgXF9fX18pIHwgIF98IHxfXC9ffCB8XyAgX3wgfF9fKSB8Xy8gLyAgIFwgXF8gIAp8X19fX198XF9fX198ICAgIGAuX18uJyAgICAgXF9fX19fXy4nIHxfX19fX3x8X19fX198fF9fX19fX18vfF9fX198IHxfX19ffCAKIF9fX19fX19fXyAgX19fX19fX18gICAgX19fX19fICBfX19fICBfX19fICAgICAgICAgICAgICAgICAgICAgICAgICAgICAgICAgCnwgIF8gICBfICB8fF8gICBfXyAgfCAuJyBfX18gIHx8XyAgIHx8ICAgX3wgICAgICAgICAgICAgICAgICAgICAgICAgICAgICAgIAp8Xy8gfCB8IFxffCAgfCB8XyBcX3wvIC4nICAgXF98ICB8IHxfX3wgfCAgICAgICAgICAgICAgICAgICAgICAgICAgICAgICAgICAKICAgIHwgfCAgICAgIHwgIF98IF8gfCB8ICAgICAgICAgfCAgX18gIHwgICAgICAgICAgICAgICAgICAgICAgICAgICAgICAgICAgCiAgIF98IHxfICAgIF98IHxfXy8gfFwgYC5fX18uJ1wgX3wgfCAgfCB8XyAgICAgICAgICAgICAgICAgICAgICAgICAgICAgICAgIAogIHxfX19fX3wgIHxfX19fX19fX3wgYC5fX19fIC4nfF9fX198fF9fX198ICAgICAgICAgICAgICAgICAgICAgICAgICAgICAgICAKICAgX19fX19fICBfX19fXyAgX19fX18gIF9fX19fICBfX19fX18gICAgICAgICAgICAgICAgICAgICAgICAgICAgICAgICAgICAgCiAuJyBfX18gIHx8XyAgIF98fF8gICBffHxfICAgX3x8XyAgIF8gXCAgICAgICAgICAgICAgICAgICAgICAgICAgICAgICAgICAgIAovIC4nICAgXF98ICB8IHwgICAgfCB8ICAgIHwgfCAgICB8IHxfKSB8ICAgICAgICAgICAgICAgICAgICAgICAgICAgICAgICAgICAKfCB8ICAgICAgICAgfCB8ICAgX3wgJyAgICAnIHwgICAgfCAgX18nLiAgICAgICAgICAgICAgICAgICAgICAgICAgICAgICAgICAgClwgYC5fX18uJ1wgX3wgfF9fLyB8XCBcX18vIC8gICAgX3wgfF9fKSB8ICAgICAgICAgICAgICAgICAgICAgICAgICAgICAgICAgIAogYC5fX19fIC4nfF9fX19fX19ffCBgLl9fLicgICAgfF9fX19fX18vICAgICAgICAgICAgICAgICAgICAgICAgICAgICAgICAgICAKICAgICAgICAgICAgICAgICAgICAgICAgICAgICAgICAgICAgICAgICAgICAgICAgICAgICAgICAgICAgICAgICAgICAgICAgICAg\").decode(\"utf-8\"))"
   ]
  },
  {
   "cell_type": "markdown",
   "metadata": {},
   "source": [
    "**You did it!** (Hopefully :) )"
   ]
  },
  {
   "cell_type": "code",
   "execution_count": null,
   "metadata": {},
   "outputs": [],
   "source": []
  }
 ],
 "metadata": {
  "kernelspec": {
   "display_name": "Python 3",
   "language": "python",
   "name": "python3"
  },
  "language_info": {
   "codemirror_mode": {
    "name": "ipython",
    "version": 3
   },
   "file_extension": ".py",
   "mimetype": "text/x-python",
   "name": "python",
   "nbconvert_exporter": "python",
   "pygments_lexer": "ipython3",
   "version": "3.6.3"
  }
 },
 "nbformat": 4,
 "nbformat_minor": 2
}
